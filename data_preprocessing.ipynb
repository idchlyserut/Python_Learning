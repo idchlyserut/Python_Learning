{
  "nbformat": 4,
  "nbformat_minor": 0,
  "metadata": {
    "colab": {
      "name": "data preprocessing.ipynb",
      "provenance": [],
      "collapsed_sections": [],
      "history_visible": true,
      "authorship_tag": "ABX9TyNLz70Ughx6u5D8LxjSEygD",
      "include_colab_link": true
    },
    "kernelspec": {
      "name": "python3",
      "display_name": "Python 3"
    },
    "language_info": {
      "name": "python"
    }
  },
  "cells": [
    {
      "cell_type": "markdown",
      "metadata": {
        "id": "view-in-github",
        "colab_type": "text"
      },
      "source": [
        "<a href=\"https://colab.research.google.com/github/idieyidot/Python_Learning/blob/master/data_preprocessing.ipynb\" target=\"_parent\"><img src=\"https://colab.research.google.com/assets/colab-badge.svg\" alt=\"Open In Colab\"/></a>"
      ]
    },
    {
      "cell_type": "code",
      "metadata": {
        "colab": {
          "resources": {
            "http://localhost:8080/nbextensions/google.colab/files.js": {
              "data": "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",
              "ok": true,
              "headers": [
                [
                  "content-type",
                  "application/javascript"
                ]
              ],
              "status": 200,
              "status_text": ""
            }
          },
          "base_uri": "https://localhost:8080/",
          "height": 73
        },
        "id": "HRATwQZ6VilE",
        "outputId": "20a1ae40-fd81-4769-c80b-8c5b99e74496"
      },
      "source": [
        "\n",
        "import pandas as pd\n",
        "import numpy as np\n",
        "from google.colab import files\n",
        "\n",
        "\n",
        "#upload excel sheet from laptop to google colab\n",
        "uploaded = files.upload() \n",
        "\n"
      ],
      "execution_count": 75,
      "outputs": [
        {
          "output_type": "display_data",
          "data": {
            "text/html": [
              "\n",
              "     <input type=\"file\" id=\"files-5572c043-9e65-4247-8bfd-cebbd1fad279\" name=\"files[]\" multiple disabled\n",
              "        style=\"border:none\" />\n",
              "     <output id=\"result-5572c043-9e65-4247-8bfd-cebbd1fad279\">\n",
              "      Upload widget is only available when the cell has been executed in the\n",
              "      current browser session. Please rerun this cell to enable.\n",
              "      </output>\n",
              "      <script src=\"/nbextensions/google.colab/files.js\"></script> "
            ],
            "text/plain": [
              "<IPython.core.display.HTML object>"
            ]
          },
          "metadata": {
            "tags": []
          }
        },
        {
          "output_type": "stream",
          "text": [
            "Saving coronavirus_sequences_table.xlsx to coronavirus_sequences_table (1).xlsx\n"
          ],
          "name": "stdout"
        }
      ]
    },
    {
      "cell_type": "code",
      "metadata": {
        "colab": {
          "base_uri": "https://localhost:8080/",
          "height": 501
        },
        "id": "_ajPXseADb_z",
        "outputId": "e2cfd6de-686b-433f-a223-989570481231"
      },
      "source": [
        "# read in all our data\n",
        "dataset = pd.read_excel(\"coronavirus_sequences_table.xlsx\")\n",
        "# set seed for reproducibility\n",
        "np.random.seed(0) \n",
        "dataset.sample(5)\n"
      ],
      "execution_count": 76,
      "outputs": [
        {
          "output_type": "execute_result",
          "data": {
            "text/html": [
              "<div>\n",
              "<style scoped>\n",
              "    .dataframe tbody tr th:only-of-type {\n",
              "        vertical-align: middle;\n",
              "    }\n",
              "\n",
              "    .dataframe tbody tr th {\n",
              "        vertical-align: top;\n",
              "    }\n",
              "\n",
              "    .dataframe thead th {\n",
              "        text-align: right;\n",
              "    }\n",
              "</style>\n",
              "<table border=\"1\" class=\"dataframe\">\n",
              "  <thead>\n",
              "    <tr style=\"text-align: right;\">\n",
              "      <th></th>\n",
              "      <th>Details</th>\n",
              "      <th>Accession</th>\n",
              "      <th>Release_Date</th>\n",
              "      <th>Species</th>\n",
              "      <th>Genus</th>\n",
              "      <th>Family</th>\n",
              "      <th>Length</th>\n",
              "      <th>Genotype</th>\n",
              "      <th>Genome_Region</th>\n",
              "      <th>Segment</th>\n",
              "      <th>Authors</th>\n",
              "      <th>Publications</th>\n",
              "      <th>Geo_Location</th>\n",
              "      <th>Host</th>\n",
              "      <th>Isolation_Source</th>\n",
              "      <th>Collection_Date</th>\n",
              "      <th>BioSample</th>\n",
              "      <th>GenBank_Title</th>\n",
              "    </tr>\n",
              "  </thead>\n",
              "  <tbody>\n",
              "    <tr>\n",
              "      <th>7057</th>\n",
              "      <td>NaN</td>\n",
              "      <td>DD451150</td>\n",
              "      <td>2007-07-02T00:00:00Z</td>\n",
              "      <td>Severe acute respiratory syndrome-related coro...</td>\n",
              "      <td>Betacoronavirus</td>\n",
              "      <td>Coronaviridae</td>\n",
              "      <td>182</td>\n",
              "      <td>NaN</td>\n",
              "      <td>NaN</td>\n",
              "      <td>NaN</td>\n",
              "      <td>Vijeisuri,S., Getman,D.K., Linnen,J.M., Nelson...</td>\n",
              "      <td>NaN</td>\n",
              "      <td>NaN</td>\n",
              "      <td>NaN</td>\n",
              "      <td>NaN</td>\n",
              "      <td>NaN</td>\n",
              "      <td>NaN</td>\n",
              "      <td>Compositions and Methods for Determining the P...</td>\n",
              "    </tr>\n",
              "    <tr>\n",
              "      <th>3456</th>\n",
              "      <td>NaN</td>\n",
              "      <td>MH741316</td>\n",
              "      <td>2019-01-13T00:00:00Z</td>\n",
              "      <td>Betacoronavirus 1</td>\n",
              "      <td>Betacoronavirus</td>\n",
              "      <td>Coronaviridae</td>\n",
              "      <td>488</td>\n",
              "      <td>NaN</td>\n",
              "      <td>NaN</td>\n",
              "      <td>NaN</td>\n",
              "      <td>He,Q.F., Guo,Z.J., Yue,H., Tang,C.</td>\n",
              "      <td>NaN</td>\n",
              "      <td>China</td>\n",
              "      <td>Bos grunniens</td>\n",
              "      <td>NaN</td>\n",
              "      <td>2015</td>\n",
              "      <td>NaN</td>\n",
              "      <td>Yak coronavirus isolate XZ8 S protein (S) gene...</td>\n",
              "    </tr>\n",
              "    <tr>\n",
              "      <th>7579</th>\n",
              "      <td>NaN</td>\n",
              "      <td>MG772864</td>\n",
              "      <td>2018-03-28T00:00:00Z</td>\n",
              "      <td>Severe acute respiratory syndrome-related coro...</td>\n",
              "      <td>Betacoronavirus</td>\n",
              "      <td>Coronaviridae</td>\n",
              "      <td>430</td>\n",
              "      <td>NaN</td>\n",
              "      <td>NaN</td>\n",
              "      <td>NaN</td>\n",
              "      <td>Hu,D.</td>\n",
              "      <td>NaN</td>\n",
              "      <td>China</td>\n",
              "      <td>Rhinolophus sinicus</td>\n",
              "      <td>NaN</td>\n",
              "      <td>2016-01</td>\n",
              "      <td>NaN</td>\n",
              "      <td>Bat SARS-like coronavirus isolate bat-SL-CoVZ2...</td>\n",
              "    </tr>\n",
              "    <tr>\n",
              "      <th>4284</th>\n",
              "      <td>NaN</td>\n",
              "      <td>JN795147</td>\n",
              "      <td>2012-07-11T00:00:00Z</td>\n",
              "      <td>Betacoronavirus 1</td>\n",
              "      <td>Betacoronavirus</td>\n",
              "      <td>Coronaviridae</td>\n",
              "      <td>1038</td>\n",
              "      <td>NaN</td>\n",
              "      <td>NaN</td>\n",
              "      <td>NaN</td>\n",
              "      <td>Bidokhti,M.R., Traven,M., Ohlson,A., Baule,C.,...</td>\n",
              "      <td>22750286</td>\n",
              "      <td>Sweden</td>\n",
              "      <td>Bos taurus</td>\n",
              "      <td>feces</td>\n",
              "      <td>2008</td>\n",
              "      <td>NaN</td>\n",
              "      <td>Bovine coronavirus isolate C5_0801 spike glypr...</td>\n",
              "    </tr>\n",
              "    <tr>\n",
              "      <th>6963</th>\n",
              "      <td>NaN</td>\n",
              "      <td>AF523850</td>\n",
              "      <td>2002-08-21T00:00:00Z</td>\n",
              "      <td>Betacoronavirus 1</td>\n",
              "      <td>Betacoronavirus</td>\n",
              "      <td>Coronaviridae</td>\n",
              "      <td>292</td>\n",
              "      <td>NaN</td>\n",
              "      <td>NaN</td>\n",
              "      <td>NaN</td>\n",
              "      <td>Wu,H.Y., Guy,J.S., Yoo,D., Vlasak,R., Urbach,E...</td>\n",
              "      <td>14592769</td>\n",
              "      <td>NaN</td>\n",
              "      <td>NaN</td>\n",
              "      <td>NaN</td>\n",
              "      <td>NaN</td>\n",
              "      <td>NaN</td>\n",
              "      <td>Equine Coronavirus NC99 3'UTR, partial sequence</td>\n",
              "    </tr>\n",
              "  </tbody>\n",
              "</table>\n",
              "</div>"
            ],
            "text/plain": [
              "      Details  ...                                      GenBank_Title\n",
              "7057      NaN  ...  Compositions and Methods for Determining the P...\n",
              "3456      NaN  ...  Yak coronavirus isolate XZ8 S protein (S) gene...\n",
              "7579      NaN  ...  Bat SARS-like coronavirus isolate bat-SL-CoVZ2...\n",
              "4284      NaN  ...  Bovine coronavirus isolate C5_0801 spike glypr...\n",
              "6963      NaN  ...    Equine Coronavirus NC99 3'UTR, partial sequence\n",
              "\n",
              "[5 rows x 18 columns]"
            ]
          },
          "metadata": {
            "tags": []
          },
          "execution_count": 76
        }
      ]
    },
    {
      "cell_type": "code",
      "metadata": {
        "colab": {
          "base_uri": "https://localhost:8080/"
        },
        "id": "PgJdsFMfe4dY",
        "outputId": "8ca73852-ae75-4fcc-ce3e-d54375426fff"
      },
      "source": [
        "\n",
        "#check how many rows and columns\n",
        "dataset.shape # (rows, column) respectively."
      ],
      "execution_count": 77,
      "outputs": [
        {
          "output_type": "execute_result",
          "data": {
            "text/plain": [
              "(7812, 18)"
            ]
          },
          "metadata": {
            "tags": []
          },
          "execution_count": 77
        }
      ]
    },
    {
      "cell_type": "code",
      "metadata": {
        "colab": {
          "base_uri": "https://localhost:8080/"
        },
        "id": "PKwZ2vv0fGMV",
        "outputId": "f5a7389e-5534-4960-ff54-49c18ea5e02d"
      },
      "source": [
        "#to check the dimension number for our dataset\n",
        "dataset.ndim"
      ],
      "execution_count": 78,
      "outputs": [
        {
          "output_type": "execute_result",
          "data": {
            "text/plain": [
              "2"
            ]
          },
          "metadata": {
            "tags": []
          },
          "execution_count": 78
        }
      ]
    },
    {
      "cell_type": "code",
      "metadata": {
        "colab": {
          "base_uri": "https://localhost:8080/"
        },
        "id": "wzRII7oof4qb",
        "outputId": "3893783a-f0b7-4c5c-f9ae-c5921a4a09c7"
      },
      "source": [
        "#Check datatypes of the column of our dataset\n",
        "dataset.dtypes"
      ],
      "execution_count": 79,
      "outputs": [
        {
          "output_type": "execute_result",
          "data": {
            "text/plain": [
              "Details             float64\n",
              "Accession            object\n",
              "Release_Date         object\n",
              "Species              object\n",
              "Genus                object\n",
              "Family               object\n",
              "Length                int64\n",
              "Genotype             object\n",
              "Genome_Region       float64\n",
              "Segment             float64\n",
              "Authors              object\n",
              "Publications         object\n",
              "Geo_Location         object\n",
              "Host                 object\n",
              "Isolation_Source     object\n",
              "Collection_Date      object\n",
              "BioSample            object\n",
              "GenBank_Title        object\n",
              "dtype: object"
            ]
          },
          "metadata": {
            "tags": []
          },
          "execution_count": 79
        }
      ]
    },
    {
      "cell_type": "markdown",
      "metadata": {
        "id": "iz1joejiIvWO"
      },
      "source": [
        "# 1. Dealing With Missing Values Generally (While doing Feature Selection)"
      ]
    },
    {
      "cell_type": "code",
      "metadata": {
        "id": "wCFJFNbDYUI0",
        "colab": {
          "base_uri": "https://localhost:8080/"
        },
        "outputId": "7be95d43-6f2f-4952-80eb-1fb0f299873e"
      },
      "source": [
        "# get the number of missing data points per column\n",
        "missing_values_count = dataset.isnull().sum()\n",
        "\n",
        "# look at the # of missing points of first 10 columns\n",
        "missing_values_count[0:10]"
      ],
      "execution_count": 80,
      "outputs": [
        {
          "output_type": "execute_result",
          "data": {
            "text/plain": [
              "Details          7812\n",
              "Accession           0\n",
              "Release_Date        0\n",
              "Species             0\n",
              "Genus               0\n",
              "Family              0\n",
              "Length              0\n",
              "Genotype         7804\n",
              "Genome_Region    7812\n",
              "Segment          7812\n",
              "dtype: int64"
            ]
          },
          "metadata": {
            "tags": []
          },
          "execution_count": 80
        }
      ]
    },
    {
      "cell_type": "code",
      "metadata": {
        "colab": {
          "base_uri": "https://localhost:8080/"
        },
        "id": "GTImTTwzv7fu",
        "outputId": "31901db8-01aa-4300-c9ee-455ed2bbed5a"
      },
      "source": [
        "# how many total missing values do we have?\n",
        "total_cells = np.product(dataset.shape)\n",
        "total_missing = missing_values_count.sum()\n",
        "\n",
        "# percent of data that is missing\n",
        "(total_missing/total_cells) * 100\n"
      ],
      "execution_count": 81,
      "outputs": [
        {
          "output_type": "execute_result",
          "data": {
            "text/plain": [
              "38.24671445639188"
            ]
          },
          "metadata": {
            "tags": []
          },
          "execution_count": 81
        }
      ]
    },
    {
      "cell_type": "markdown",
      "metadata": {
        "id": "las2OSoDF63b"
      },
      "source": [
        "This is for removing all columns that has NAN (missing values)"
      ]
    },
    {
      "cell_type": "code",
      "metadata": {
        "id": "96aMYHKQ3bkF"
      },
      "source": [
        "# pandas drop columns using list of column names (selective drop)\n",
        "new_dataset = dataset.drop(['Details', 'Genotype', 'Genome_Region','Segment','BioSample', 'Isolation_Source', 'Collection_Date','Publications','Geo_Location', 'Authors'], axis=1)\n",
        "\n"
      ],
      "execution_count": 82,
      "outputs": []
    },
    {
      "cell_type": "code",
      "metadata": {
        "id": "SpNunmUpaEaJ"
      },
      "source": [
        "#saving the dropped column to a new csv file\n",
        "new_dataset.to_csv(\"dropped_columns.csv\", index=False, encoding ='utf8') "
      ],
      "execution_count": 83,
      "outputs": []
    },
    {
      "cell_type": "code",
      "metadata": {
        "colab": {
          "base_uri": "https://localhost:8080/"
        },
        "id": "YRbhCqpYVKFT",
        "outputId": "c9b19642-027f-49d8-fb7e-2363cda1d14f"
      },
      "source": [
        "#check back if it really dropped the column\n",
        "missing_values_count = new_dataset.isnull().sum()\n",
        "\n",
        "# look at the # of missing points\n",
        "missing_values_count[0:18] #checked all column \n",
        "\n",
        "#from this, we can see that there's only 9 column left"
      ],
      "execution_count": 84,
      "outputs": [
        {
          "output_type": "execute_result",
          "data": {
            "text/plain": [
              "Accession           0\n",
              "Release_Date        0\n",
              "Species             0\n",
              "Genus               0\n",
              "Family              0\n",
              "Length              0\n",
              "Host             2296\n",
              "GenBank_Title       0\n",
              "dtype: int64"
            ]
          },
          "metadata": {
            "tags": []
          },
          "execution_count": 84
        }
      ]
    },
    {
      "cell_type": "code",
      "metadata": {
        "colab": {
          "base_uri": "https://localhost:8080/"
        },
        "id": "kZjJ9AIn4W6x",
        "outputId": "6ccedde8-cdc1-4c5f-a17d-73a54a189858"
      },
      "source": [
        "# To confirm, let's compare the column number between previous dataset and new dataset\n",
        "print(\"Columns in original dataset: %d \\n\" % dataset.shape[1])\n",
        "print(\"Columns in new dataset: %d\" % new_dataset.shape[1])"
      ],
      "execution_count": 85,
      "outputs": [
        {
          "output_type": "stream",
          "text": [
            "Columns in original dataset: 18 \n",
            "\n",
            "Columns in new dataset: 8\n"
          ],
          "name": "stdout"
        }
      ]
    },
    {
      "cell_type": "markdown",
      "metadata": {
        "id": "ZC6qwBvRGFAA"
      },
      "source": [
        "Feature selection was done by dropping the column that contains missing values as it was not needed while solving the missing values problems. However, there's 1 more column that has missing values, I cannot delete this as it is a crucial information for the host prediction later. \n",
        "\n"
      ]
    },
    {
      "cell_type": "markdown",
      "metadata": {
        "id": "_Q8f4Q_Skbt8"
      },
      "source": [
        "# 2. Dealing with missing values in Host Column"
      ]
    },
    {
      "cell_type": "code",
      "metadata": {
        "id": "gv_rG81JNQBg"
      },
      "source": [
        "# replace all NA's with 0\n",
        "new_dataset2=new_dataset.fillna('null')\n",
        "new_dataset2.to_csv(\"no_missing_values.csv\", index=False, encoding ='utf8') "
      ],
      "execution_count": 86,
      "outputs": []
    },
    {
      "cell_type": "code",
      "metadata": {
        "colab": {
          "base_uri": "https://localhost:8080/"
        },
        "id": "RoRe5qMbPRFR",
        "outputId": "840664f4-79bf-4bb6-9cf8-f746a3ab2ed1"
      },
      "source": [
        "#check back if it really filled the missing values\n",
        "missing_values_count = new_dataset2.isnull().sum()\n",
        "\n",
        "# look at the # of missing points\n",
        "missing_values_count[0:18] #checked all column \n",
        "\n",
        "#from this, we can see that there's no more missing values on the host column"
      ],
      "execution_count": 87,
      "outputs": [
        {
          "output_type": "execute_result",
          "data": {
            "text/plain": [
              "Accession        0\n",
              "Release_Date     0\n",
              "Species          0\n",
              "Genus            0\n",
              "Family           0\n",
              "Length           0\n",
              "Host             0\n",
              "GenBank_Title    0\n",
              "dtype: int64"
            ]
          },
          "metadata": {
            "tags": []
          },
          "execution_count": 87
        }
      ]
    },
    {
      "cell_type": "markdown",
      "metadata": {
        "id": "_hxOr9YFdyaT"
      },
      "source": [
        "# 3. Detect Redundancy and Remove duplicated rows"
      ]
    },
    {
      "cell_type": "markdown",
      "metadata": {
        "id": "3PfgiIS4eOE8"
      },
      "source": [
        "To find whether a data-set contain duplicate rows or not we can use Pandas DataFrame.duplicated()  either for all columns or for some selected columns. pandas.Dataframe.duplicated() returns a Boolean series denoting duplicate rows"
      ]
    },
    {
      "cell_type": "code",
      "metadata": {
        "colab": {
          "base_uri": "https://localhost:8080/"
        },
        "id": "6wrbhPSXetrE",
        "outputId": "01917e5d-b723-4005-8e06-c425789a1505"
      },
      "source": [
        "duplicate_rows_df = new_dataset2[new_dataset2.duplicated()]\n",
        "print (\"Number of duplicate rows: \", duplicate_rows_df.shape)"
      ],
      "execution_count": 88,
      "outputs": [
        {
          "output_type": "stream",
          "text": [
            "Number of duplicate rows:  (0, 8)\n"
          ],
          "name": "stdout"
        }
      ]
    },
    {
      "cell_type": "markdown",
      "metadata": {
        "id": "1C0FiSnrf6R3"
      },
      "source": [
        "It is shown (row, column) respectively means 0 duplicated rows in 8 columns. "
      ]
    },
    {
      "cell_type": "markdown",
      "metadata": {
        "id": "mdEAFzER_Ge4"
      },
      "source": [
        "# 4.Scaling & Normalization"
      ]
    },
    {
      "cell_type": "code",
      "metadata": {
        "id": "fEF4R_v3_xqr"
      },
      "source": [
        "# for Box-Cox Transformation\n",
        "from scipy import stats\n",
        "\n",
        "# for min_max scaling\n",
        "from mlxtend.preprocessing import minmax_scaling\n",
        "\n",
        "# plotting modules\n",
        "import seaborn as sns\n",
        "import matplotlib.pyplot as plt\n",
        "\n",
        "# set seed for reproducibility\n",
        "np.random.seed(0)"
      ],
      "execution_count": 89,
      "outputs": []
    },
    {
      "cell_type": "markdown",
      "metadata": {
        "id": "GH2qAeVYFigL"
      },
      "source": [
        "**Normalization** \n",
        "The point of normalization is to change your observations so that they can be described as a normal distribution.\n",
        "\n",
        "**Scaling** his means that you're transforming your data so that it fits within a specific scale, like 0-100 or 0-1. \n",
        "\n",
        "However, a dataset should be split before doing normalization to avoid biased evaluation"
      ]
    },
    {
      "cell_type": "code",
      "metadata": {
        "id": "RKSFKM_FF1NO"
      },
      "source": [
        "\n",
        "# get the index of all positive pledges (Box-Cox only takes postive values)\n",
        "#index_Length = dataset3.Length > 0\n",
        "\n",
        "# get only positive pledges (using their indexes)\n",
        "#positive_Lengths = dataset3.Length.loc[index_Length]\n",
        "\n",
        "# normalize the pledges (w/ Box-Cox)\n",
        "#normalized_Lengths = stats.boxcox(positive_Lengths)[0]\n",
        "\n",
        "# plot both together to compare\n",
        "#fig, ax=plt.subplots(1,2)\n",
        "#sns.distplot(positive_Lengths, ax=ax[0])\n",
        "#ax[0].set_title(\"Original Data\")\n",
        "#sns.distplot(normalized_Lengths, ax=ax[1])\n",
        "#ax[1].set_title(\"Normalized data\")\n",
        "#model._normalization_mean.numpy()"
      ],
      "execution_count": 90,
      "outputs": []
    },
    {
      "cell_type": "markdown",
      "metadata": {
        "id": "2iFTmHBOtQWK"
      },
      "source": [
        "# 5. Splitting datasets into three sets"
      ]
    },
    {
      "cell_type": "markdown",
      "metadata": {
        "id": "1L7b6JCdtv7x"
      },
      "source": [
        "To make it easier to get sequences from Batch Entrez"
      ]
    },
    {
      "cell_type": "code",
      "metadata": {
        "colab": {
          "base_uri": "https://localhost:8080/",
          "height": 279
        },
        "id": "oGTcsvagt74r",
        "outputId": "8acc3304-0133-4fb5-812c-a4b87abac936"
      },
      "source": [
        "new_dataset2.head()"
      ],
      "execution_count": 95,
      "outputs": [
        {
          "output_type": "execute_result",
          "data": {
            "text/html": [
              "<div>\n",
              "<style scoped>\n",
              "    .dataframe tbody tr th:only-of-type {\n",
              "        vertical-align: middle;\n",
              "    }\n",
              "\n",
              "    .dataframe tbody tr th {\n",
              "        vertical-align: top;\n",
              "    }\n",
              "\n",
              "    .dataframe thead th {\n",
              "        text-align: right;\n",
              "    }\n",
              "</style>\n",
              "<table border=\"1\" class=\"dataframe\">\n",
              "  <thead>\n",
              "    <tr style=\"text-align: right;\">\n",
              "      <th></th>\n",
              "      <th>Accession</th>\n",
              "      <th>Release_Date</th>\n",
              "      <th>Species</th>\n",
              "      <th>Genus</th>\n",
              "      <th>Family</th>\n",
              "      <th>Length</th>\n",
              "      <th>Host</th>\n",
              "      <th>GenBank_Title</th>\n",
              "    </tr>\n",
              "  </thead>\n",
              "  <tbody>\n",
              "    <tr>\n",
              "      <th>0</th>\n",
              "      <td>AB277133</td>\n",
              "      <td>2007-03-24T00:00:00Z</td>\n",
              "      <td>Betacoronavirus 1</td>\n",
              "      <td>Betacoronavirus</td>\n",
              "      <td>Coronaviridae</td>\n",
              "      <td>411</td>\n",
              "      <td>null</td>\n",
              "      <td>Bovine coronavirus S1 gene for spike protein s...</td>\n",
              "    </tr>\n",
              "    <tr>\n",
              "      <th>1</th>\n",
              "      <td>AB277120</td>\n",
              "      <td>2007-03-24T00:00:00Z</td>\n",
              "      <td>Betacoronavirus 1</td>\n",
              "      <td>Betacoronavirus</td>\n",
              "      <td>Coronaviridae</td>\n",
              "      <td>411</td>\n",
              "      <td>null</td>\n",
              "      <td>Bovine coronavirus S1 gene for spike protein s...</td>\n",
              "    </tr>\n",
              "    <tr>\n",
              "      <th>2</th>\n",
              "      <td>AB450865</td>\n",
              "      <td>2008-11-11T00:00:00Z</td>\n",
              "      <td>Betacoronavirus 1</td>\n",
              "      <td>Betacoronavirus</td>\n",
              "      <td>Coronaviridae</td>\n",
              "      <td>411</td>\n",
              "      <td>null</td>\n",
              "      <td>Bovine coronavirus S1 gene for spike protein s...</td>\n",
              "    </tr>\n",
              "    <tr>\n",
              "      <th>3</th>\n",
              "      <td>AB450878</td>\n",
              "      <td>2008-11-11T00:00:00Z</td>\n",
              "      <td>Betacoronavirus 1</td>\n",
              "      <td>Betacoronavirus</td>\n",
              "      <td>Coronaviridae</td>\n",
              "      <td>411</td>\n",
              "      <td>null</td>\n",
              "      <td>Bovine coronavirus S1 gene for spike protein s...</td>\n",
              "    </tr>\n",
              "    <tr>\n",
              "      <th>4</th>\n",
              "      <td>AB450881</td>\n",
              "      <td>2008-11-11T00:00:00Z</td>\n",
              "      <td>Betacoronavirus 1</td>\n",
              "      <td>Betacoronavirus</td>\n",
              "      <td>Coronaviridae</td>\n",
              "      <td>411</td>\n",
              "      <td>null</td>\n",
              "      <td>Bovine coronavirus S1 gene for spike protein s...</td>\n",
              "    </tr>\n",
              "  </tbody>\n",
              "</table>\n",
              "</div>"
            ],
            "text/plain": [
              "  Accession  ...                                      GenBank_Title\n",
              "0  AB277133  ...  Bovine coronavirus S1 gene for spike protein s...\n",
              "1  AB277120  ...  Bovine coronavirus S1 gene for spike protein s...\n",
              "2  AB450865  ...  Bovine coronavirus S1 gene for spike protein s...\n",
              "3  AB450878  ...  Bovine coronavirus S1 gene for spike protein s...\n",
              "4  AB450881  ...  Bovine coronavirus S1 gene for spike protein s...\n",
              "\n",
              "[5 rows x 8 columns]"
            ]
          },
          "metadata": {
            "tags": []
          },
          "execution_count": 95
        }
      ]
    },
    {
      "cell_type": "markdown",
      "metadata": {
        "id": "qO8qbR7LvIcl"
      },
      "source": [
        "**Method:** Splitting Pandas Dataframe by row index (edited, I will just categorize the data using the host then split them by host. However code below will remain here as reference"
      ]
    },
    {
      "cell_type": "code",
      "metadata": {
        "id": "GWdUhw55vUFJ"
      },
      "source": [
        "# splitting dataframe by row index\n",
        "#df_1 = new_dataset2.iloc[:2604]\n",
        "#df_2 = new_dataset2.iloc[2604:5209]\n",
        "#df_3 = new_dataset2.iloc[5209:]\n",
        "#print(\"Shape of new dataframes - {} , {}, {}\".format(df_1.shape, df_2.shape, df_3.shape))"
      ],
      "execution_count": 92,
      "outputs": []
    },
    {
      "cell_type": "code",
      "metadata": {
        "id": "as3ch4VLzyTv"
      },
      "source": [
        "#saving the three datasets into 3 seperate csv files\n",
        "\n",
        "#df_1.to_csv(\"cleaned1_2604rows.csv\", index=False, encoding ='utf8') \n",
        "#df_2.to_csv(\"cleaned2_2605rows.csv\", index=False, encoding ='utf8') \n",
        "#df_3.to_csv(\"cleaned3_2603rows.csv\", index=False, encoding ='utf8') "
      ],
      "execution_count": 93,
      "outputs": []
    },
    {
      "cell_type": "code",
      "metadata": {
        "colab": {
          "base_uri": "https://localhost:8080/"
        },
        "id": "cB27oRu-_vSI",
        "outputId": "c3f85277-e4a2-49d4-f644-dd46771f5932"
      },
      "source": [
        "#sorting the dataset by the column host\n",
        "s = new_dataset2.sort_values('Host', ascending=False)\n",
        "\n",
        "#count occurance of host names in dataframe\n",
        "pd.set_option(\"max_columns\",2)\n",
        "pd.set_option (\"Max_rows\", None)\n",
        "s.Host.value_counts()\n",
        "\n",
        "#splitting the dataset by the column host"
      ],
      "execution_count": 154,
      "outputs": [
        {
          "output_type": "execute_result",
          "data": {
            "text/plain": [
              "Homo sapiens                  2358\n",
              "null                          2296\n",
              "Bos taurus                     614\n",
              "Camelus dromedarius            482\n",
              "Eidolon helvum                 341\n",
              "Bos grunniens                  139\n",
              "Rhinolophus sinicus            130\n",
              "Camelus                        127\n",
              "Chiroptera                     125\n",
              "Rhinolophus ferrumequinum       82\n",
              "Rousettus leschenaultii         76\n",
              "Mus musculus                    73\n",
              "Sus scrofa                      53\n",
              "Rousettus sp.                   52\n",
              "Micropteropus pusillus          47\n",
              "Eonycteris spelaea              44\n",
              "Bovidae                         37\n",
              "Neoromicia capensis             37\n",
              "Equus caballus                  33\n",
              "Tylonycteris pachypus           31\n",
              "Erinaceus europaeus             30\n",
              "Epomops franqueti               30\n",
              "Rhinolophus monoceros           28\n",
              "Vicugna pacos                   24\n",
              "Oryctolagus cuniculus           22\n",
              "Canis lupus familiaris          19\n",
              "Paradoxurus hermaphroditus      18\n",
              "Epomophorus gambianus           16\n",
              "Megaloglossus woermanni         15\n",
              "Rhinolophus hipposideros        15\n",
              "Rousettus aegyptiacus           15\n",
              "Rattus losea                    14\n",
              "Pteropus rufus                  13\n",
              "Cynopterus brachyotis           12\n",
              "Rhinolophus                     12\n",
              "Rattus argentiventer            11\n",
              "Sus scrofa scrofa               11\n",
              "Bubalus bubalis                 11\n",
              "Apodemus agrarius               10\n",
              "Pteropus alecto                  9\n",
              "Myotis dasycneme                 9\n",
              "Rattus                           9\n",
              "Camelus bactrianus               8\n",
              "Pipistrellus pipistrellus        8\n",
              "Pipistrellus kuhlii              8\n",
              "Cynopterus sp.                   8\n",
              "Rhinolophus affinis              8\n",
              "Pteronotus parnellii             8\n",
              "Pan troglodytes verus            7\n",
              "Hipposideros pratti              7\n",
              "Rhinolophus cornutus             6\n",
              "Rattus norvegicus                6\n",
              "Triaenops persicus               5\n",
              "Viverridae                       5\n",
              "Cynopterus sphinx                5\n",
              "Nyctalus noctula                 5\n",
              "Rhinolophus euryale              5\n",
              "Apodemus                         5\n",
              "Myodes glareolus                 5\n",
              "Pipistrellus hesperidus          4\n",
              "Cavia porcellus                  4\n",
              "Myotis emarginatus               4\n",
              "Microchiroptera                  4\n",
              "Rousettus amplexicaudatus        4\n",
              "Hemitragus jemlahicus            4\n",
              "Equus asinus                     4\n",
              "Bos indicus                      4\n",
              "Hipposideros armiger             3\n",
              "Giraffa camelopardalis           3\n",
              "Dobsonia moluccensis             3\n",
              "Artibeus lituratus               3\n",
              "Capra hircus                     3\n",
              "Myotis daubentonii               3\n",
              "Epomophorus                      3\n",
              "Pteropus giganteus               3\n",
              "Kobus ellipsiprymnus             3\n",
              "Hypsugo savii                    3\n",
              "Artibeus phaeotis                3\n",
              "Nycteris                         3\n",
              "Rusa unicolor                    3\n",
              "Ia io                            2\n",
              "Tragelaphus angasii              2\n",
              "Scotophilus leucogaster          2\n",
              "Pseudoscops clamator             2\n",
              "Hipposideros                     2\n",
              "Hipposideros caffer              2\n",
              "Bison bonasus                    2\n",
              "Dyacopterus spadiceus            2\n",
              "Megascops choliba                2\n",
              "Erinaceus amurensis              2\n",
              "Mastomys                         2\n",
              "Vespertilio sinensis             2\n",
              "Pipistrellus abramus             2\n",
              "Hipposideros galeritus           2\n",
              "Glossophaginae                   2\n",
              "Crocidura                        2\n",
              "Mus bufo                         2\n",
              "Scotophilus dinganii             2\n",
              "Macroglossus                     2\n",
              "Tragelaphus spekii               2\n",
              "Mops condylurus                  2\n",
              "Epomophorus labiatus             2\n",
              "Nycticebus pygmaeus              2\n",
              "Pipistrellus nathusii            2\n",
              "Cynopterus horsfieldii           2\n",
              "Pipistrellus                     2\n",
              "Tadarida                         2\n",
              "Megaerops niphanae               1\n",
              "Ptenochirus jagori               1\n",
              "Rhinolophus blasii               1\n",
              "Pyroderus scutatus               1\n",
              "Rhinopoma hardwickii             1\n",
              "Rhinolophus creaghi              1\n",
              "Manis javanica                   1\n",
              "Mastomys sp.                     1\n",
              "Pipistrellus pygmaeus            1\n",
              "Hipposideros ruber               1\n",
              "Chlorocebus aethiops             1\n",
              "Myotis ricketti                  1\n",
              "Odocoileus virginianus           1\n",
              "Hipposideros commersoni          1\n",
              "Rhinolophus pusillus             1\n",
              "Eidolon dupreanum                1\n",
              "Pitangus sulphuratus             1\n",
              "Rhinolophus clivosus             1\n",
              "Paguma larvata                   1\n",
              "Rhinolophus thomasi              1\n",
              "Columba livia                    1\n",
              "Eptesicus serotinus              1\n",
              "Rhinolophus rex                  1\n",
              "Nyctinomops laticaudatus         1\n",
              "Ara ararauna                     1\n",
              "Artibeus obscurus                1\n",
              "Hydropotes inermis               1\n",
              "Rhinonicteris aurantia           1\n",
              "Rattus sp.                       1\n",
              "Myonycteris angolensis           1\n",
              "Chaerephon plicatus              1\n",
              "Eumops glaucinus                 1\n",
              "Rodentia                         1\n",
              "Pteronotus davyi                 1\n",
              "Eptesicus nilssonii              1\n",
              "Carollia perspicillata           1\n",
              "Aselliscus stoliczkanus          1\n",
              "Niviventer confucianus           1\n",
              "Taphozous perforatus             1\n",
              "Rhinolophus pearsonii            1\n",
              "Coragyps atratus                 1\n",
              "Rhinolophus macrotis             1\n",
              "Miniopterus schreibersii         1\n",
              "Lama glama                       1\n",
              "Rupornis magnirostris            1\n",
              "Eptesicus isabellinus            1\n",
              "Mus cervicolor                   1\n",
              "Rattus tanezumi                  1\n",
              "Name: Host, dtype: int64"
            ]
          },
          "metadata": {
            "tags": []
          },
          "execution_count": 154
        }
      ]
    }
  ]
}