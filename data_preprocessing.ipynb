{
  "nbformat": 4,
  "nbformat_minor": 0,
  "metadata": {
    "colab": {
      "name": "data preprocessing.ipynb",
      "provenance": [],
      "collapsed_sections": [],
      "authorship_tag": "ABX9TyMD12p73N9cOisDrEi1G84r",
      "include_colab_link": true
    },
    "kernelspec": {
      "name": "python3",
      "display_name": "Python 3"
    },
    "language_info": {
      "name": "python"
    }
  },
  "cells": [
    {
      "cell_type": "markdown",
      "metadata": {
        "id": "view-in-github",
        "colab_type": "text"
      },
      "source": [
        "<a href=\"https://colab.research.google.com/github/idieyidot/Python_Learning/blob/master/data_preprocessing.ipynb\" target=\"_parent\"><img src=\"https://colab.research.google.com/assets/colab-badge.svg\" alt=\"Open In Colab\"/></a>"
      ]
    },
    {
      "cell_type": "code",
      "metadata": {
        "colab": {
          "base_uri": "https://localhost:8080/",
          "height": 501
        },
        "id": "HRATwQZ6VilE",
        "outputId": "630a5267-aeb6-49de-b02b-8f0f34d0716e"
      },
      "source": [
        "\n",
        "import pandas as pd\n",
        "import numpy as np\n",
        "\n",
        "# read in all our data\n",
        "dataset = pd.read_excel(\"coronavirus_sequences_table.xlsx\")\n",
        "# set seed for reproducibility\n",
        "np.random.seed(0) \n",
        "dataset.sample(5)\n"
      ],
      "execution_count": 76,
      "outputs": [
        {
          "output_type": "execute_result",
          "data": {
            "text/html": [
              "<div>\n",
              "<style scoped>\n",
              "    .dataframe tbody tr th:only-of-type {\n",
              "        vertical-align: middle;\n",
              "    }\n",
              "\n",
              "    .dataframe tbody tr th {\n",
              "        vertical-align: top;\n",
              "    }\n",
              "\n",
              "    .dataframe thead th {\n",
              "        text-align: right;\n",
              "    }\n",
              "</style>\n",
              "<table border=\"1\" class=\"dataframe\">\n",
              "  <thead>\n",
              "    <tr style=\"text-align: right;\">\n",
              "      <th></th>\n",
              "      <th>Details</th>\n",
              "      <th>Accession</th>\n",
              "      <th>Release_Date</th>\n",
              "      <th>Species</th>\n",
              "      <th>Genus</th>\n",
              "      <th>Family</th>\n",
              "      <th>Length</th>\n",
              "      <th>Genotype</th>\n",
              "      <th>Genome_Region</th>\n",
              "      <th>Segment</th>\n",
              "      <th>Authors</th>\n",
              "      <th>Publications</th>\n",
              "      <th>Geo_Location</th>\n",
              "      <th>Host</th>\n",
              "      <th>Isolation_Source</th>\n",
              "      <th>Collection_Date</th>\n",
              "      <th>BioSample</th>\n",
              "      <th>GenBank_Title</th>\n",
              "    </tr>\n",
              "  </thead>\n",
              "  <tbody>\n",
              "    <tr>\n",
              "      <th>7057</th>\n",
              "      <td>NaN</td>\n",
              "      <td>DD451150</td>\n",
              "      <td>2007-07-02T00:00:00Z</td>\n",
              "      <td>Severe acute respiratory syndrome-related coro...</td>\n",
              "      <td>Betacoronavirus</td>\n",
              "      <td>Coronaviridae</td>\n",
              "      <td>182</td>\n",
              "      <td>NaN</td>\n",
              "      <td>NaN</td>\n",
              "      <td>NaN</td>\n",
              "      <td>Vijeisuri,S., Getman,D.K., Linnen,J.M., Nelson...</td>\n",
              "      <td>NaN</td>\n",
              "      <td>NaN</td>\n",
              "      <td>NaN</td>\n",
              "      <td>NaN</td>\n",
              "      <td>NaN</td>\n",
              "      <td>NaN</td>\n",
              "      <td>Compositions and Methods for Determining the P...</td>\n",
              "    </tr>\n",
              "    <tr>\n",
              "      <th>3456</th>\n",
              "      <td>NaN</td>\n",
              "      <td>MH741316</td>\n",
              "      <td>2019-01-13T00:00:00Z</td>\n",
              "      <td>Betacoronavirus 1</td>\n",
              "      <td>Betacoronavirus</td>\n",
              "      <td>Coronaviridae</td>\n",
              "      <td>488</td>\n",
              "      <td>NaN</td>\n",
              "      <td>NaN</td>\n",
              "      <td>NaN</td>\n",
              "      <td>He,Q.F., Guo,Z.J., Yue,H., Tang,C.</td>\n",
              "      <td>NaN</td>\n",
              "      <td>China</td>\n",
              "      <td>Bos grunniens</td>\n",
              "      <td>NaN</td>\n",
              "      <td>2015</td>\n",
              "      <td>NaN</td>\n",
              "      <td>Yak coronavirus isolate XZ8 S protein (S) gene...</td>\n",
              "    </tr>\n",
              "    <tr>\n",
              "      <th>7579</th>\n",
              "      <td>NaN</td>\n",
              "      <td>MG772864</td>\n",
              "      <td>2018-03-28T00:00:00Z</td>\n",
              "      <td>Severe acute respiratory syndrome-related coro...</td>\n",
              "      <td>Betacoronavirus</td>\n",
              "      <td>Coronaviridae</td>\n",
              "      <td>430</td>\n",
              "      <td>NaN</td>\n",
              "      <td>NaN</td>\n",
              "      <td>NaN</td>\n",
              "      <td>Hu,D.</td>\n",
              "      <td>NaN</td>\n",
              "      <td>China</td>\n",
              "      <td>Rhinolophus sinicus</td>\n",
              "      <td>NaN</td>\n",
              "      <td>2016-01</td>\n",
              "      <td>NaN</td>\n",
              "      <td>Bat SARS-like coronavirus isolate bat-SL-CoVZ2...</td>\n",
              "    </tr>\n",
              "    <tr>\n",
              "      <th>4284</th>\n",
              "      <td>NaN</td>\n",
              "      <td>JN795147</td>\n",
              "      <td>2012-07-11T00:00:00Z</td>\n",
              "      <td>Betacoronavirus 1</td>\n",
              "      <td>Betacoronavirus</td>\n",
              "      <td>Coronaviridae</td>\n",
              "      <td>1038</td>\n",
              "      <td>NaN</td>\n",
              "      <td>NaN</td>\n",
              "      <td>NaN</td>\n",
              "      <td>Bidokhti,M.R., Traven,M., Ohlson,A., Baule,C.,...</td>\n",
              "      <td>22750286</td>\n",
              "      <td>Sweden</td>\n",
              "      <td>Bos taurus</td>\n",
              "      <td>feces</td>\n",
              "      <td>2008</td>\n",
              "      <td>NaN</td>\n",
              "      <td>Bovine coronavirus isolate C5_0801 spike glypr...</td>\n",
              "    </tr>\n",
              "    <tr>\n",
              "      <th>6963</th>\n",
              "      <td>NaN</td>\n",
              "      <td>AF523850</td>\n",
              "      <td>2002-08-21T00:00:00Z</td>\n",
              "      <td>Betacoronavirus 1</td>\n",
              "      <td>Betacoronavirus</td>\n",
              "      <td>Coronaviridae</td>\n",
              "      <td>292</td>\n",
              "      <td>NaN</td>\n",
              "      <td>NaN</td>\n",
              "      <td>NaN</td>\n",
              "      <td>Wu,H.Y., Guy,J.S., Yoo,D., Vlasak,R., Urbach,E...</td>\n",
              "      <td>14592769</td>\n",
              "      <td>NaN</td>\n",
              "      <td>NaN</td>\n",
              "      <td>NaN</td>\n",
              "      <td>NaN</td>\n",
              "      <td>NaN</td>\n",
              "      <td>Equine Coronavirus NC99 3'UTR, partial sequence</td>\n",
              "    </tr>\n",
              "  </tbody>\n",
              "</table>\n",
              "</div>"
            ],
            "text/plain": [
              "      Details  ...                                      GenBank_Title\n",
              "7057      NaN  ...  Compositions and Methods for Determining the P...\n",
              "3456      NaN  ...  Yak coronavirus isolate XZ8 S protein (S) gene...\n",
              "7579      NaN  ...  Bat SARS-like coronavirus isolate bat-SL-CoVZ2...\n",
              "4284      NaN  ...  Bovine coronavirus isolate C5_0801 spike glypr...\n",
              "6963      NaN  ...    Equine Coronavirus NC99 3'UTR, partial sequence\n",
              "\n",
              "[5 rows x 18 columns]"
            ]
          },
          "metadata": {
            "tags": []
          },
          "execution_count": 76
        }
      ]
    },
    {
      "cell_type": "code",
      "metadata": {
        "colab": {
          "base_uri": "https://localhost:8080/"
        },
        "id": "PgJdsFMfe4dY",
        "outputId": "ae94ac56-7e73-49b2-aafc-0b9b2f1bb68f"
      },
      "source": [
        "\n",
        "#check how many rows and columns\n",
        "dataset.shape # (rows, column) respectively."
      ],
      "execution_count": 77,
      "outputs": [
        {
          "output_type": "execute_result",
          "data": {
            "text/plain": [
              "(7812, 18)"
            ]
          },
          "metadata": {
            "tags": []
          },
          "execution_count": 77
        }
      ]
    },
    {
      "cell_type": "code",
      "metadata": {
        "colab": {
          "base_uri": "https://localhost:8080/"
        },
        "id": "PKwZ2vv0fGMV",
        "outputId": "0bee4664-298a-4239-fe7b-88a42ccc6cbd"
      },
      "source": [
        "#to check the dimension number for our dataset\n",
        "dataset.ndim"
      ],
      "execution_count": 78,
      "outputs": [
        {
          "output_type": "execute_result",
          "data": {
            "text/plain": [
              "2"
            ]
          },
          "metadata": {
            "tags": []
          },
          "execution_count": 78
        }
      ]
    },
    {
      "cell_type": "code",
      "metadata": {
        "colab": {
          "base_uri": "https://localhost:8080/"
        },
        "id": "wzRII7oof4qb",
        "outputId": "db481e45-070f-475b-c925-933c45b94bff"
      },
      "source": [
        "#Check datatypes of the column of our dataset\n",
        "dataset.dtypes"
      ],
      "execution_count": 79,
      "outputs": [
        {
          "output_type": "execute_result",
          "data": {
            "text/plain": [
              "Details             float64\n",
              "Accession            object\n",
              "Release_Date         object\n",
              "Species              object\n",
              "Genus                object\n",
              "Family               object\n",
              "Length                int64\n",
              "Genotype             object\n",
              "Genome_Region       float64\n",
              "Segment             float64\n",
              "Authors              object\n",
              "Publications         object\n",
              "Geo_Location         object\n",
              "Host                 object\n",
              "Isolation_Source     object\n",
              "Collection_Date      object\n",
              "BioSample            object\n",
              "GenBank_Title        object\n",
              "dtype: object"
            ]
          },
          "metadata": {
            "tags": []
          },
          "execution_count": 79
        }
      ]
    },
    {
      "cell_type": "markdown",
      "metadata": {
        "id": "iz1joejiIvWO"
      },
      "source": [
        "# 1. Dealing With Missing Values Generally (While doing Feature Selection)"
      ]
    },
    {
      "cell_type": "code",
      "metadata": {
        "id": "wCFJFNbDYUI0",
        "colab": {
          "base_uri": "https://localhost:8080/"
        },
        "outputId": "f18e1c1b-73d1-4b39-ce55-686f9be4f425"
      },
      "source": [
        "# get the number of missing data points per column\n",
        "missing_values_count = dataset.isnull().sum()\n",
        "\n",
        "# look at the # of missing points of first 10 columns\n",
        "missing_values_count[0:10]"
      ],
      "execution_count": 61,
      "outputs": [
        {
          "output_type": "execute_result",
          "data": {
            "text/plain": [
              "Details          7812\n",
              "Accession           0\n",
              "Release_Date        0\n",
              "Species             0\n",
              "Genus               0\n",
              "Family              0\n",
              "Length              0\n",
              "Genotype         7804\n",
              "Genome_Region    7812\n",
              "Segment          7812\n",
              "dtype: int64"
            ]
          },
          "metadata": {
            "tags": []
          },
          "execution_count": 61
        }
      ]
    },
    {
      "cell_type": "code",
      "metadata": {
        "colab": {
          "base_uri": "https://localhost:8080/"
        },
        "id": "GTImTTwzv7fu",
        "outputId": "e91cbe25-23a2-452b-a73f-3778545b2b3d"
      },
      "source": [
        "# how many total missing values do we have?\n",
        "total_cells = np.product(dataset.shape)\n",
        "total_missing = missing_values_count.sum()\n",
        "\n",
        "# percent of data that is missing\n",
        "(total_missing/total_cells) * 100\n"
      ],
      "execution_count": 74,
      "outputs": [
        {
          "output_type": "execute_result",
          "data": {
            "text/plain": [
              "38.24671445639188"
            ]
          },
          "metadata": {
            "tags": []
          },
          "execution_count": 74
        }
      ]
    },
    {
      "cell_type": "markdown",
      "metadata": {
        "id": "las2OSoDF63b"
      },
      "source": [
        "This is for removing all columns that has NAN (missing values)"
      ]
    },
    {
      "cell_type": "code",
      "metadata": {
        "id": "96aMYHKQ3bkF"
      },
      "source": [
        "# pandas drop columns using list of column names (selective drop)\n",
        "new_dataset = dataset.drop(['Details', 'Genotype', 'Genome_Region','Segment','BioSample', 'Isolation_Source', 'Collection_Date','Publications','Geo_Location', 'Authors'], axis=1)\n",
        "\n"
      ],
      "execution_count": 97,
      "outputs": []
    },
    {
      "cell_type": "code",
      "metadata": {
        "id": "SpNunmUpaEaJ"
      },
      "source": [
        "#saving the dropped column to a new csv file\n",
        "new_dataset.to_csv(\"dropped_columns.csv\", index=False, encoding ='utf8') "
      ],
      "execution_count": 98,
      "outputs": []
    },
    {
      "cell_type": "code",
      "metadata": {
        "colab": {
          "base_uri": "https://localhost:8080/"
        },
        "id": "YRbhCqpYVKFT",
        "outputId": "9a3780ef-e1cf-459b-de58-3cdd2e6572fc"
      },
      "source": [
        "#check back if it really dropped the column\n",
        "missing_values_count = new_dataset.isnull().sum()\n",
        "\n",
        "# look at the # of missing points\n",
        "missing_values_count[0:18] #checked all column \n",
        "\n",
        "#from this, we can see that there's only 9 column left"
      ],
      "execution_count": 99,
      "outputs": [
        {
          "output_type": "execute_result",
          "data": {
            "text/plain": [
              "Accession           0\n",
              "Release_Date        0\n",
              "Species             0\n",
              "Genus               0\n",
              "Family              0\n",
              "Length              0\n",
              "Host             2296\n",
              "GenBank_Title       0\n",
              "dtype: int64"
            ]
          },
          "metadata": {
            "tags": []
          },
          "execution_count": 99
        }
      ]
    },
    {
      "cell_type": "code",
      "metadata": {
        "colab": {
          "base_uri": "https://localhost:8080/"
        },
        "id": "kZjJ9AIn4W6x",
        "outputId": "aae85085-7c3e-4a12-c7f6-5385c6c2fddd"
      },
      "source": [
        "# To confirm, let's compare the column number between previous dataset and new dataset\n",
        "print(\"Columns in original dataset: %d \\n\" % dataset.shape[1])\n",
        "print(\"Columns in new dataset: %d\" % new_dataset.shape[1])"
      ],
      "execution_count": 100,
      "outputs": [
        {
          "output_type": "stream",
          "text": [
            "Columns in original dataset: 18 \n",
            "\n",
            "Columns in new dataset: 8\n"
          ],
          "name": "stdout"
        }
      ]
    },
    {
      "cell_type": "markdown",
      "metadata": {
        "id": "ZC6qwBvRGFAA"
      },
      "source": [
        "Feature selection was done by dropping the column that contains missing values as it was not needed while solving the missing values problems. However, there's 1 more column that has missing values, I cannot delete this as it is a crucial information for the host prediction later. \n",
        "\n"
      ]
    },
    {
      "cell_type": "markdown",
      "metadata": {
        "id": "_Q8f4Q_Skbt8"
      },
      "source": [
        "# 2. Dealing with missing values in Host Column"
      ]
    }
  ]
}